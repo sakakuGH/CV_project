{
 "cells": [
  {
   "cell_type": "code",
   "execution_count": null,
   "id": "753cfedd-0472-4f02-bb6c-2d8ce432975a",
   "metadata": {},
   "outputs": [],
   "source": [
    "import os\n",
    "import requests\n",
    "import zipfile\n",
    "from torchvision.datasets import ImageFolder\n",
    "from torchvision import transforms\n",
    "from torch.utils.data import DataLoader\n",
    "\n",
    "\n",
    "# Function to download and extract Tiny ImageNet dataset\n",
    "def download_tiny_imagenet(data_dir):\n",
    "    dataset_url = \"http://cs231n.stanford.edu/tiny-imagenet-200.zip\"\n",
    "    dataset_zip_path = os.path.join(data_dir, \"tiny-imagenet-200.zip\")\n",
    "    dataset_extract_path = os.path.join(data_dir, \"tiny-imagenet-200\")\n",
    "\n",
    "    # Create the data directory if it doesn't exist\n",
    "    os.makedirs(data_dir, exist_ok=True)\n",
    "\n",
    "    # Download the dataset if not already downloaded\n",
    "    if not os.path.exists(dataset_zip_path):\n",
    "        print(\"Downloading Tiny ImageNet dataset...\")\n",
    "        response = requests.get(dataset_url, stream=True)\n",
    "        with open(dataset_zip_path, \"wb\") as f:\n",
    "            for chunk in response.iter_content(chunk_size=1024):\n",
    "                if chunk:\n",
    "                    f.write(chunk)\n",
    "        print(\"Tiny ImageNet dataset downloaded.\")\n",
    "\n",
    "    # Extract the dataset if not already extracted\n",
    "    if not os.path.exists(dataset_extract_path):\n",
    "        print(\"Extracting Tiny ImageNet dataset...\")\n",
    "        with zipfile.ZipFile(dataset_zip_path, \"r\") as zip_ref:\n",
    "            zip_ref.extractall(data_dir)\n",
    "        print(\"Tiny ImageNet dataset extracted.\")\n",
    "\n",
    "    return dataset_extract_path\n",
    "\n",
    "download_tiny_imagenet(\"./data\")"
   ]
  }
 ],
 "metadata": {
  "kernelspec": {
   "display_name": "Python 3 (ipykernel)",
   "language": "python",
   "name": "python3"
  },
  "language_info": {
   "codemirror_mode": {
    "name": "ipython",
    "version": 3
   },
   "file_extension": ".py",
   "mimetype": "text/x-python",
   "name": "python",
   "nbconvert_exporter": "python",
   "pygments_lexer": "ipython3",
   "version": "3.9.18"
  }
 },
 "nbformat": 4,
 "nbformat_minor": 5
}
